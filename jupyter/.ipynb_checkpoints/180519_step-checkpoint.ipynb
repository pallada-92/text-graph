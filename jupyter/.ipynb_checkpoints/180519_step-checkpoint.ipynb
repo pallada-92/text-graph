{
 "cells": [
  {
   "cell_type": "code",
   "execution_count": 156,
   "metadata": {},
   "outputs": [],
   "source": [
    "%matplotlib inline\n",
    "from matplotlib import pyplot as plt\n",
    "import numpy as np\n",
    "import random, scipy.spatial, math\n",
    "from tqdm import tqdm"
   ]
  },
  {
   "cell_type": "code",
   "execution_count": 137,
   "metadata": {
    "init_cell": true
   },
   "outputs": [
    {
     "data": {
      "text/plain": [
       "array([1.34350288, 1.27475488, 1.21037184, 1.15108644, 1.09772492,\n",
       "       1.0511898 , 1.01242284, 0.98234414, 0.9617692 , 0.95131488,\n",
       "       1.27475488, 1.20208153, 1.1335784 , 1.07004673, 1.01242284,\n",
       "       0.9617692 , 0.91923882, 0.88600226, 0.86313383, 0.85146932,\n",
       "       1.21037184, 1.1335784 , 1.06066017, 0.99247166, 0.93005376,\n",
       "       0.87464278, 0.82764727, 0.79056942, 0.76485293, 0.75166482,\n",
       "       1.15108644, 1.07004673, 0.99247166, 0.91923882, 0.85146932,\n",
       "       0.79056942, 0.73824115, 0.69641941, 0.6670832 , 0.65192024,\n",
       "       1.09772492, 1.01242284, 0.93005376, 0.85146932, 0.77781746,\n",
       "       0.71063352, 0.65192024, 0.6041523 , 0.57008771, 0.55226805,\n",
       "       1.0511898 , 0.9617692 , 0.87464278, 0.79056942, 0.71063352,\n",
       "       0.6363961 , 0.57008771, 0.51478151, 0.47434165, 0.45276926,\n",
       "       1.01242284, 0.91923882, 0.82764727, 0.73824115, 0.65192024,\n",
       "       0.57008771, 0.49497475, 0.43011626, 0.38078866, 0.35355339,\n",
       "       0.98234414, 0.88600226, 0.79056942, 0.69641941, 0.6041523 ,\n",
       "       0.51478151, 0.43011626, 0.35355339, 0.29154759, 0.25495098,\n",
       "       0.9617692 , 0.86313383, 0.76485293, 0.6670832 , 0.57008771,\n",
       "       0.47434165, 0.38078866, 0.29154759, 0.21213203, 0.15811388,\n",
       "       0.95131488, 0.85146932, 0.75166482, 0.65192024, 0.55226805,\n",
       "       0.45276926, 0.35355339, 0.25495098, 0.15811388, 0.07071068])"
      ]
     },
     "execution_count": 137,
     "metadata": {},
     "output_type": "execute_result"
    }
   ],
   "source": []
  },
  {
   "cell_type": "code",
   "execution_count": 141,
   "metadata": {},
   "outputs": [],
   "source": [
    "def model(pt_count, radius, grid_size, dim):\n",
    "    center = np.random.rand(dim)\n",
    "    cells_x = np.linspace(0, 1, grid_size, endpoint=False) + 1 / grid_size / 2\n",
    "    cells = np.array([(x, y) for x in cells_x for y in cells_x])\n",
    "    cells_counts = [0 for i in range(len(cells))]\n",
    "    for _ in range(pt_count):\n",
    "        cells_counts[random.randint(0, len(cells) - 1)] += 1\n",
    "    max_count = max(cells_counts)\n",
    "    radius += 1 / math.sqrt(2) / grid_size\n",
    "    selected = np.sum((cells - center) ** 2, axis=1) < radius ** 2\n",
    "    return max_count * sum(selected)"
   ]
  },
  {
   "cell_type": "code",
   "execution_count": 154,
   "metadata": {},
   "outputs": [],
   "source": [
    "# results = {}"
   ]
  },
  {
   "cell_type": "code",
   "execution_count": 157,
   "metadata": {},
   "outputs": [
    {
     "name": "stderr",
     "output_type": "stream",
     "text": [
      "\n",
      "  0%|          | 0/10 [00:00<?, ?it/s]\u001b[A\n",
      " 10%|█         | 1/10 [00:00<00:02,  4.46it/s]\u001b[A\n",
      " 20%|██        | 2/10 [00:00<00:02,  3.94it/s]\u001b[A\n",
      " 30%|███       | 3/10 [00:00<00:01,  3.78it/s]\u001b[A\n",
      "\u001b[A"
     ]
    },
    {
     "ename": "KeyboardInterrupt",
     "evalue": "",
     "output_type": "error",
     "traceback": [
      "\u001b[0;31m---------------------------------------------------------------------------\u001b[0m",
      "\u001b[0;31mKeyboardInterrupt\u001b[0m                         Traceback (most recent call last)",
      "\u001b[0;32m<ipython-input-157-2f0f86156f5f>\u001b[0m in \u001b[0;36m<module>\u001b[0;34m()\u001b[0m\n\u001b[1;32m      8\u001b[0m     \u001b[0mres_grid_size\u001b[0m\u001b[0;34m.\u001b[0m\u001b[0mappend\u001b[0m\u001b[0;34m(\u001b[0m\u001b[0mgrid_size\u001b[0m\u001b[0;34m)\u001b[0m\u001b[0;34m\u001b[0m\u001b[0m\n\u001b[1;32m      9\u001b[0m     \u001b[0;32mfor\u001b[0m \u001b[0m_\u001b[0m \u001b[0;32min\u001b[0m \u001b[0mrange\u001b[0m\u001b[0;34m(\u001b[0m\u001b[0miters\u001b[0m\u001b[0;34m)\u001b[0m\u001b[0;34m:\u001b[0m\u001b[0;34m\u001b[0m\u001b[0m\n\u001b[0;32m---> 10\u001b[0;31m         \u001b[0mmean\u001b[0m \u001b[0;34m+=\u001b[0m \u001b[0mmodel\u001b[0m\u001b[0;34m(\u001b[0m\u001b[0mcount\u001b[0m\u001b[0;34m,\u001b[0m \u001b[0;36m1\u001b[0m \u001b[0;34m/\u001b[0m \u001b[0mradius\u001b[0m\u001b[0;34m,\u001b[0m \u001b[0mint\u001b[0m\u001b[0;34m(\u001b[0m\u001b[0mgrid_size\u001b[0m \u001b[0;34m*\u001b[0m \u001b[0mradius\u001b[0m\u001b[0;34m)\u001b[0m\u001b[0;34m,\u001b[0m \u001b[0;36m2\u001b[0m\u001b[0;34m)\u001b[0m\u001b[0;34m\u001b[0m\u001b[0m\n\u001b[0m\u001b[1;32m     11\u001b[0m     \u001b[0mres_count\u001b[0m\u001b[0;34m.\u001b[0m\u001b[0mappend\u001b[0m\u001b[0;34m(\u001b[0m\u001b[0mmean\u001b[0m \u001b[0;34m/\u001b[0m \u001b[0miters\u001b[0m\u001b[0;34m)\u001b[0m\u001b[0;34m\u001b[0m\u001b[0m\n\u001b[1;32m     12\u001b[0m \u001b[0mresults\u001b[0m\u001b[0;34m[\u001b[0m\u001b[0mradius\u001b[0m\u001b[0;34m]\u001b[0m \u001b[0;34m=\u001b[0m \u001b[0;34m(\u001b[0m\u001b[0mres_grid_size\u001b[0m\u001b[0;34m,\u001b[0m \u001b[0mres_count\u001b[0m\u001b[0;34m)\u001b[0m\u001b[0;34m\u001b[0m\u001b[0m\n",
      "\u001b[0;32m<ipython-input-141-61b2e7a0743d>\u001b[0m in \u001b[0;36mmodel\u001b[0;34m(pt_count, radius, grid_size, dim)\u001b[0m\n\u001b[1;32m      9\u001b[0m     \u001b[0mradius\u001b[0m \u001b[0;34m+=\u001b[0m \u001b[0;36m1\u001b[0m \u001b[0;34m/\u001b[0m \u001b[0mmath\u001b[0m\u001b[0;34m.\u001b[0m\u001b[0msqrt\u001b[0m\u001b[0;34m(\u001b[0m\u001b[0;36m2\u001b[0m\u001b[0;34m)\u001b[0m \u001b[0;34m/\u001b[0m \u001b[0mgrid_size\u001b[0m\u001b[0;34m\u001b[0m\u001b[0m\n\u001b[1;32m     10\u001b[0m     \u001b[0mselected\u001b[0m \u001b[0;34m=\u001b[0m \u001b[0mnp\u001b[0m\u001b[0;34m.\u001b[0m\u001b[0msum\u001b[0m\u001b[0;34m(\u001b[0m\u001b[0;34m(\u001b[0m\u001b[0mcells\u001b[0m \u001b[0;34m-\u001b[0m \u001b[0mcenter\u001b[0m\u001b[0;34m)\u001b[0m \u001b[0;34m**\u001b[0m \u001b[0;36m2\u001b[0m\u001b[0;34m,\u001b[0m \u001b[0maxis\u001b[0m\u001b[0;34m=\u001b[0m\u001b[0;36m1\u001b[0m\u001b[0;34m)\u001b[0m \u001b[0;34m<\u001b[0m \u001b[0mradius\u001b[0m \u001b[0;34m**\u001b[0m \u001b[0;36m2\u001b[0m\u001b[0;34m\u001b[0m\u001b[0m\n\u001b[0;32m---> 11\u001b[0;31m     \u001b[0;32mreturn\u001b[0m \u001b[0mmax_count\u001b[0m \u001b[0;34m*\u001b[0m \u001b[0msum\u001b[0m\u001b[0;34m(\u001b[0m\u001b[0mselected\u001b[0m\u001b[0;34m)\u001b[0m\u001b[0;34m\u001b[0m\u001b[0m\n\u001b[0m",
      "\u001b[0;31mKeyboardInterrupt\u001b[0m: "
     ]
    }
   ],
   "source": [
    "res_grid_size = []\n",
    "res_count = []\n",
    "radius = 80\n",
    "count = 5000\n",
    "iters = 10\n",
    "for grid_size in tqdm(np.linspace(1 / 4, 3 / 2, 10)):\n",
    "    mean = 0\n",
    "    res_grid_size.append(grid_size)\n",
    "    for _ in range(iters):\n",
    "        mean += model(count, 1 / radius, int(grid_size * radius), 2)\n",
    "    res_count.append(mean / iters)\n",
    "results[radius] = (res_grid_size, res_count)"
   ]
  },
  {
   "cell_type": "code",
   "execution_count": 153,
   "metadata": {},
   "outputs": [
    {
     "data": {
      "image/png": "[encoded data removed]",
      "text/plain": [
       "<Figure size 432x288 with 1 Axes>"
      ]
     },
     "metadata": {},
     "output_type": "display_data"
    }
   ],
   "source": [
    "plt.plot(res_grid_size, res_count);\n",
    "#plt.scatter(grid_size, res_count);"
   ]
  }
 ],
 "metadata": {
  "kernelspec": {
   "display_name": "Py36",
   "language": "python",
   "name": "py36"
  },
  "language_info": {
   "codemirror_mode": {
    "name": "ipython",
    "version": 3
   },
   "file_extension": ".py",
   "mimetype": "text/x-python",
   "name": "python",
   "nbconvert_exporter": "python",
   "pygments_lexer": "ipython3",
   "version": "3.6.5"
  }
 },
 "nbformat": 4,
 "nbformat_minor": 2
}
