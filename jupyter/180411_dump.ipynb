{
 "cells": [
  {
   "cell_type": "code",
   "execution_count": 1,
   "metadata": {
    "collapsed": true
   },
   "outputs": [],
   "source": [
    "import rpy2.robjects as robjects\n",
    "from rpy2.robjects import pandas2ri\n",
    "pandas2ri.activate()"
   ]
  },
  {
   "cell_type": "code",
   "execution_count": 4,
   "metadata": {
    "collapsed": true
   },
   "outputs": [],
   "source": [
    "readRDS = robjects.r['readRDS']\n",
    "df = readRDS('../data/pt_ngrams_severstal_wind_2006_2015_/8_severstal_wind_2006_2015__query_results.RDS')\n",
    "df = pandas2ri.ri2py(df)"
   ]
  },
  {
   "cell_type": "code",
   "execution_count": 48,
   "metadata": {},
   "outputs": [],
   "source": [
    "import os\n",
    "\n",
    "folder = 'severstal'\n",
    "if not os.path.exists(folder):\n",
    "    os.makedirs(folder)\n",
    "\n",
    "for i, name in enumerate(df.names):\n",
    "    if type(df[i]) == robjects.vectors.DataFrame:\n",
    "        df[i].to_csvfile('./%s/%s.csv' % (folder, name))"
   ]
  },
  {
   "cell_type": "code",
   "execution_count": 5,
   "metadata": {
    "scrolled": false
   },
   "outputs": [
    {
     "name": "stdout",
     "output_type": "stream",
     "text": [
      "[0] specificity_statistics\n",
      "    [0] id\n",
      "    [1] ngram\n",
      "    [2] ngramids\n",
      "    [3] corpus_sum\n",
      "    [4] ngram_length\n",
      "    [5] specificity\n",
      "    [6] in_degree\n",
      "    [7] out_degree\n",
      "    [8] cluster\n",
      "    [9] n_types\n",
      "\n",
      "[1] occurrence_by_year\n",
      "    [0] ngram\n",
      "    [1] pubyear\n",
      "    [2] count\n",
      "    [3] rel_freq\n",
      "\n",
      "[2] cooccurrence_by_year\n",
      "    [0] ngram1\n",
      "    [1] ngram2\n",
      "    [2] pubyear\n",
      "    [3] count\n",
      "\n",
      "[3] corpus_occurrence_by_year\n",
      "    [0] pubyear\n",
      "    [1] freq\n",
      "\n",
      "[4] technology_cooccurrence\n",
      "    NULL\n",
      "\n"
     ]
    }
   ],
   "source": [
    "for pos1, name1 in enumerate(df.names):\n",
    "    print('[%d] %s' % (pos1, name1))\n",
    "    if not df[pos1].names:\n",
    "        print('    NULL')\n",
    "    else:\n",
    "        for pos2, name2 in enumerate(df[pos1].names):\n",
    "            print('    [%d] %s' % (pos2, name2))\n",
    "    print()"
   ]
  },
  {
   "cell_type": "code",
   "execution_count": 9,
   "metadata": {
    "collapsed": true
   },
   "outputs": [],
   "source": [
    "import pandas as pd\n",
    "source = pd.Series(list(df[2][0]))\n",
    "target = pd.Series(list(df[2][1]))"
   ]
  },
  {
   "cell_type": "code",
   "execution_count": 8,
   "metadata": {
    "collapsed": true
   },
   "outputs": [],
   "source": [
    "from collections import Counter\n",
    "def connections(ngram):\n",
    "    return Counter(list(target[source == ngram]) + list(source[target == ngram]))"
   ]
  },
  {
   "cell_type": "code",
   "execution_count": 10,
   "metadata": {},
   "outputs": [
    {
     "data": {
      "text/plain": [
       "Counter({'Biodegradation': 1,\n",
       "         'Casting (metalworking)': 1,\n",
       "         'Chemical structure': 1,\n",
       "         'Corrosion inhibitor': 2,\n",
       "         'Glutaric acid': 2,\n",
       "         'Malonic acid': 2,\n",
       "         'Oxalic acid': 2,\n",
       "         'Property damage': 1,\n",
       "         'Sebacic acid': 2,\n",
       "         'Succinic acid': 2})"
      ]
     },
     "execution_count": 10,
     "metadata": {},
     "output_type": "execute_result"
    }
   ],
   "source": [
    "connections('Adipic acid')"
   ]
  },
  {
   "cell_type": "code",
   "execution_count": 11,
   "metadata": {},
   "outputs": [
    {
     "data": {
      "text/plain": [
       "1"
      ]
     },
     "execution_count": 11,
     "metadata": {},
     "output_type": "execute_result"
    }
   ],
   "source": [
    "len(connections('Casting (metalworking)'))"
   ]
  },
  {
   "cell_type": "code",
   "execution_count": 12,
   "metadata": {
    "scrolled": false
   },
   "outputs": [
    {
     "data": {
      "text/plain": [
       "2877"
      ]
     },
     "execution_count": 12,
     "metadata": {},
     "output_type": "execute_result"
    }
   ],
   "source": [
    "ngrams = set()\n",
    "for ngram in df[0][1]:\n",
    "    ngrams.add(ngram)\n",
    "for ngram in df[1][0]:\n",
    "    ngrams.add(ngram)\n",
    "for ngram in df[2][0]:\n",
    "    ngrams.add(ngram)\n",
    "for ngram in df[2][1]:\n",
    "    ngrams.add(ngram)\n",
    "ngrams = list(ngrams)\n",
    "ngrams_ids = {ngram: pos for pos, ngram in enumerate(ngrams)}\n",
    "len(ngrams)"
   ]
  },
  {
   "cell_type": "code",
   "execution_count": 13,
   "metadata": {
    "scrolled": true
   },
   "outputs": [
    {
     "data": {
      "text/plain": [
       "(2005, 2015)"
      ]
     },
     "execution_count": 13,
     "metadata": {},
     "output_type": "execute_result"
    }
   ],
   "source": [
    "years = set()\n",
    "for year in df[1][1]:\n",
    "    years.add(year)\n",
    "for year in df[2][2]:\n",
    "    years.add(year)\n",
    "for year in df[3][0]:\n",
    "    years.add(year)\n",
    "years = list(sorted(years))\n",
    "years_ids = {year: pos for pos, year in enumerate(years)}\n",
    "min_year, max_year = min(years), max(years)\n",
    "min_year, max_year"
   ]
  },
  {
   "cell_type": "code",
   "execution_count": 14,
   "metadata": {
    "collapsed": true
   },
   "outputs": [],
   "source": [
    "res = {}"
   ]
  },
  {
   "cell_type": "code",
   "execution_count": 15,
   "metadata": {
    "collapsed": true
   },
   "outputs": [],
   "source": [
    "res['edge_source'] = []\n",
    "res['edge_target'] = []\n",
    "res['edge_date'] = []\n",
    "res['edge_weight'] = []\n",
    "for ngram1, ngram2, year, count in zip(df[2][0], df[2][1], df[2][2], df[2][3]):\n",
    "    res['edge_source'].append(ngrams_ids[ngram1])\n",
    "    res['edge_target'].append(ngrams_ids[ngram2])\n",
    "    res['edge_date'].append(int(year))\n",
    "    res['edge_weight'].append(int(count))"
   ]
  },
  {
   "cell_type": "code",
   "execution_count": 16,
   "metadata": {
    "collapsed": true
   },
   "outputs": [],
   "source": [
    "res['node_label'] = []\n",
    "for ngram in ngrams:\n",
    "    res['node_label'].append(ngram)"
   ]
  },
  {
   "cell_type": "code",
   "execution_count": 17,
   "metadata": {
    "collapsed": true
   },
   "outputs": [],
   "source": [
    "res['nodeDate_node'] = []\n",
    "res['nodeDate_date'] = []\n",
    "res['nodeDate_count'] = []\n",
    "for ngram, year, count in zip(df[1][0], df[1][1], df[1][2]):\n",
    "    res['nodeDate_node'].append(ngrams_ids[ngram])\n",
    "    res['nodeDate_date'].append(year)\n",
    "    res['nodeDate_count'].append(int(count))"
   ]
  },
  {
   "cell_type": "code",
   "execution_count": 11,
   "metadata": {
    "collapsed": true
   },
   "outputs": [],
   "source": [
    "import json\n",
    "json.dump(res, open('../data/pt_ngrams_severstal_wind_2006_2015_.json', 'w'))"
   ]
  }
 ],
 "metadata": {
  "kernelspec": {
   "display_name": "Py36",
   "language": "python",
   "name": "py36"
  },
  "language_info": {
   "codemirror_mode": {
    "name": "ipython",
    "version": 3
   },
   "file_extension": ".py",
   "mimetype": "text/x-python",
   "name": "python",
   "nbconvert_exporter": "python",
   "pygments_lexer": "ipython3",
   "version": "3.6.3"
  }
 },
 "nbformat": 4,
 "nbformat_minor": 2
}
