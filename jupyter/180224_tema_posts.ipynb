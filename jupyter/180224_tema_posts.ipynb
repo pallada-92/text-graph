{
 "cells": [
  {
   "cell_type": "code",
   "execution_count": 51,
   "metadata": {
    "collapsed": true
   },
   "outputs": [],
   "source": [
    "import os\n",
    "path = '../../../entropy/180129_tema/posts/'\n",
    "fnames = os.listdir(path)\n",
    "posts = {}"
   ]
  },
  {
   "cell_type": "code",
   "execution_count": 58,
   "metadata": {
    "collapsed": true
   },
   "outputs": [],
   "source": [
    "#json.dump(posts, open('tema_posts.json', 'w'), ensure_ascii=False)"
   ]
  },
  {
   "cell_type": "code",
   "execution_count": 54,
   "metadata": {},
   "outputs": [
    {
     "name": "stdout",
     "output_type": "stream",
     "text": [
      "....................................................................................................."
     ]
    }
   ],
   "source": [
    "import json\n",
    "from bs4 import BeautifulSoup as BS\n",
    "\n",
    "for fno, fname in enumerate(fnames):\n",
    "    full_path = path + fname\n",
    "    with open(full_path) as f:\n",
    "        html = f.read()\n",
    "    bs = BS(html, 'lxml')\n",
    "    tags = [e['content'] for e in bs.find_all('meta', property=\"article:tag\")]\n",
    "    title = bs.title.text\n",
    "    comments = bs.find(class_=\"js-amount\")\n",
    "    if comments is not None:\n",
    "        comments = comments.text.split()[0]\n",
    "    date = bs.time.text\n",
    "    posts[fname] = {\n",
    "        'title': title,\n",
    "        'tags': tags,\n",
    "        'comments': comments,\n",
    "        'date': date,\n",
    "    }\n",
    "    if fno % (len(fnames) // 100) == 0:\n",
    "        print('.', end='')"
   ]
  }
 ],
 "metadata": {
  "kernelspec": {
   "display_name": "Python 3",
   "language": "python",
   "name": "python3"
  },
  "language_info": {
   "codemirror_mode": {
    "name": "ipython",
    "version": 3
   },
   "file_extension": ".py",
   "mimetype": "text/x-python",
   "name": "python",
   "nbconvert_exporter": "python",
   "pygments_lexer": "ipython3",
   "version": "3.6.3"
  }
 },
 "nbformat": 4,
 "nbformat_minor": 2
}
